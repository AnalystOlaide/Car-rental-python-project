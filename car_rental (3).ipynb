{
 "cells": [
  {
   "cell_type": "markdown",
   "id": "da031dbd-88ad-4d2b-9ff8-a0f12a6c5e35",
   "metadata": {},
   "source": [
    "# Car Rental Data Analysis with Python"
   ]
  },
  {
   "cell_type": "markdown",
   "id": "e3cf994d-9a5b-4956-b106-0629cd3fae02",
   "metadata": {},
   "source": [
    "## Business Problem Statement"
   ]
  },
  {
   "cell_type": "markdown",
   "id": "be459938-3b8a-4ac9-ad35-65ddaef6ec3d",
   "metadata": {},
   "source": [
    "-- What factors influence total rental revenue the most?\n",
    "(e.g., car type, rental duration, customer membership)\n",
    "\n",
    "-- Which car makes and models are rented the most and generate the highest revenue?\n",
    "\n",
    "-- What is the impact of membership status on rental frequency and total spend?\n",
    "\n",
    "-- Are certain locations more likely to have late returns or maintenance issues?\n",
    "\n",
    "-- Do younger or older customers tend to return cars in worse condition?\n",
    "\n",
    "-- Which fuel types and transmissions are most popular among customers?\n",
    "\n",
    "-- What is the average customer rating by car type or rental duration?"
   ]
  },
  {
   "cell_type": "markdown",
   "id": "073a223c-2cff-4f3d-805d-9d963f911e3a",
   "metadata": {},
   "source": [
    "## importing my data"
   ]
  },
  {
   "cell_type": "code",
   "execution_count": 4,
   "id": "da12ec05-484d-441f-a319-b738fc50ee24",
   "metadata": {},
   "outputs": [],
   "source": [
    "import pandas as pd\n",
    "df = pd.read_csv(\"C:/Users/DELL/Downloads/car_rental_dataset.csv\")"
   ]
  },
  {
   "cell_type": "code",
   "execution_count": 19,
   "id": "9484dc07-7dcd-4c2e-8b8b-521feba4b69e",
   "metadata": {},
   "outputs": [
    {
     "data": {
      "text/html": [
       "<div>\n",
       "<style scoped>\n",
       "    .dataframe tbody tr th:only-of-type {\n",
       "        vertical-align: middle;\n",
       "    }\n",
       "\n",
       "    .dataframe tbody tr th {\n",
       "        vertical-align: top;\n",
       "    }\n",
       "\n",
       "    .dataframe thead th {\n",
       "        text-align: right;\n",
       "    }\n",
       "</style>\n",
       "<table border=\"1\" class=\"dataframe\">\n",
       "  <thead>\n",
       "    <tr style=\"text-align: right;\">\n",
       "      <th></th>\n",
       "      <th>rental_id</th>\n",
       "      <th>customer_id</th>\n",
       "      <th>car_id</th>\n",
       "      <th>rental_date</th>\n",
       "      <th>return_date</th>\n",
       "      <th>rental_duration</th>\n",
       "      <th>rental_status</th>\n",
       "      <th>make</th>\n",
       "      <th>model</th>\n",
       "      <th>year</th>\n",
       "      <th>...</th>\n",
       "      <th>dropoff_location</th>\n",
       "      <th>pickup_time</th>\n",
       "      <th>dropoff_time</th>\n",
       "      <th>pickup_staff_id</th>\n",
       "      <th>dropoff_staff_id</th>\n",
       "      <th>car_condition_before</th>\n",
       "      <th>car_condition_after</th>\n",
       "      <th>damage_reported</th>\n",
       "      <th>maintenance_needed</th>\n",
       "      <th>cleaning_fee</th>\n",
       "    </tr>\n",
       "  </thead>\n",
       "  <tbody>\n",
       "    <tr>\n",
       "      <th>0</th>\n",
       "      <td>R100000</td>\n",
       "      <td>C207077</td>\n",
       "      <td>CAR302689</td>\n",
       "      <td>2025-03-26</td>\n",
       "      <td>2025-04-05</td>\n",
       "      <td>10</td>\n",
       "      <td>Completed</td>\n",
       "      <td>Honda</td>\n",
       "      <td>CR-V</td>\n",
       "      <td>2017</td>\n",
       "      <td>...</td>\n",
       "      <td>Reyesview</td>\n",
       "      <td>2024-09-20 19:21:15</td>\n",
       "      <td>2023-07-27 14:50:25</td>\n",
       "      <td>S400112</td>\n",
       "      <td>S400878</td>\n",
       "      <td>Good</td>\n",
       "      <td>Fair</td>\n",
       "      <td>No</td>\n",
       "      <td>No</td>\n",
       "      <td>4.93</td>\n",
       "    </tr>\n",
       "    <tr>\n",
       "      <th>1</th>\n",
       "      <td>R100001</td>\n",
       "      <td>C204400</td>\n",
       "      <td>CAR303474</td>\n",
       "      <td>2024-01-15</td>\n",
       "      <td>2024-01-23</td>\n",
       "      <td>8</td>\n",
       "      <td>Active</td>\n",
       "      <td>BMW</td>\n",
       "      <td>3 Series</td>\n",
       "      <td>2022</td>\n",
       "      <td>...</td>\n",
       "      <td>Riveraland</td>\n",
       "      <td>2025-04-10 08:33:21</td>\n",
       "      <td>2025-03-10 08:35:36</td>\n",
       "      <td>S400737</td>\n",
       "      <td>S400939</td>\n",
       "      <td>Good</td>\n",
       "      <td>Fair</td>\n",
       "      <td>No</td>\n",
       "      <td>No</td>\n",
       "      <td>1.49</td>\n",
       "    </tr>\n",
       "    <tr>\n",
       "      <th>2</th>\n",
       "      <td>R100002</td>\n",
       "      <td>C209335</td>\n",
       "      <td>CAR303210</td>\n",
       "      <td>2024-05-26</td>\n",
       "      <td>2024-06-09</td>\n",
       "      <td>14</td>\n",
       "      <td>Completed</td>\n",
       "      <td>Honda</td>\n",
       "      <td>Civic</td>\n",
       "      <td>2017</td>\n",
       "      <td>...</td>\n",
       "      <td>Kelseychester</td>\n",
       "      <td>2024-12-25 05:03:32</td>\n",
       "      <td>2024-09-14 00:30:52</td>\n",
       "      <td>S400258</td>\n",
       "      <td>S400899</td>\n",
       "      <td>Fair</td>\n",
       "      <td>Damaged</td>\n",
       "      <td>Yes</td>\n",
       "      <td>Yes</td>\n",
       "      <td>13.57</td>\n",
       "    </tr>\n",
       "    <tr>\n",
       "      <th>3</th>\n",
       "      <td>R100003</td>\n",
       "      <td>C205128</td>\n",
       "      <td>CAR308239</td>\n",
       "      <td>2023-11-26</td>\n",
       "      <td>2023-12-09</td>\n",
       "      <td>13</td>\n",
       "      <td>Active</td>\n",
       "      <td>Ford</td>\n",
       "      <td>Escape</td>\n",
       "      <td>2023</td>\n",
       "      <td>...</td>\n",
       "      <td>Conradmouth</td>\n",
       "      <td>2024-07-29 14:40:27</td>\n",
       "      <td>2024-08-09 13:50:28</td>\n",
       "      <td>S400051</td>\n",
       "      <td>S400139</td>\n",
       "      <td>Good</td>\n",
       "      <td>Good</td>\n",
       "      <td>Yes</td>\n",
       "      <td>Yes</td>\n",
       "      <td>10.24</td>\n",
       "    </tr>\n",
       "    <tr>\n",
       "      <th>4</th>\n",
       "      <td>R100004</td>\n",
       "      <td>C202440</td>\n",
       "      <td>CAR301306</td>\n",
       "      <td>2023-11-29</td>\n",
       "      <td>2023-12-07</td>\n",
       "      <td>8</td>\n",
       "      <td>Completed</td>\n",
       "      <td>Honda</td>\n",
       "      <td>Accord</td>\n",
       "      <td>2021</td>\n",
       "      <td>...</td>\n",
       "      <td>South Bradley</td>\n",
       "      <td>2024-03-07 16:24:36</td>\n",
       "      <td>2024-11-12 01:55:01</td>\n",
       "      <td>S400002</td>\n",
       "      <td>S400348</td>\n",
       "      <td>Needs Maintenance</td>\n",
       "      <td>Good</td>\n",
       "      <td>Yes</td>\n",
       "      <td>No</td>\n",
       "      <td>0.00</td>\n",
       "    </tr>\n",
       "  </tbody>\n",
       "</table>\n",
       "<p>5 rows × 40 columns</p>\n",
       "</div>"
      ],
      "text/plain": [
       "  rental_id customer_id     car_id rental_date return_date  rental_duration  \\\n",
       "0   R100000     C207077  CAR302689  2025-03-26  2025-04-05               10   \n",
       "1   R100001     C204400  CAR303474  2024-01-15  2024-01-23                8   \n",
       "2   R100002     C209335  CAR303210  2024-05-26  2024-06-09               14   \n",
       "3   R100003     C205128  CAR308239  2023-11-26  2023-12-09               13   \n",
       "4   R100004     C202440  CAR301306  2023-11-29  2023-12-07                8   \n",
       "\n",
       "  rental_status   make     model  year  ... dropoff_location  \\\n",
       "0     Completed  Honda      CR-V  2017  ...        Reyesview   \n",
       "1        Active    BMW  3 Series  2022  ...       Riveraland   \n",
       "2     Completed  Honda     Civic  2017  ...    Kelseychester   \n",
       "3        Active   Ford    Escape  2023  ...      Conradmouth   \n",
       "4     Completed  Honda    Accord  2021  ...    South Bradley   \n",
       "\n",
       "           pickup_time         dropoff_time pickup_staff_id  dropoff_staff_id  \\\n",
       "0  2024-09-20 19:21:15  2023-07-27 14:50:25         S400112           S400878   \n",
       "1  2025-04-10 08:33:21  2025-03-10 08:35:36         S400737           S400939   \n",
       "2  2024-12-25 05:03:32  2024-09-14 00:30:52         S400258           S400899   \n",
       "3  2024-07-29 14:40:27  2024-08-09 13:50:28         S400051           S400139   \n",
       "4  2024-03-07 16:24:36  2024-11-12 01:55:01         S400002           S400348   \n",
       "\n",
       "  car_condition_before car_condition_after  damage_reported  \\\n",
       "0                 Good                Fair               No   \n",
       "1                 Good                Fair               No   \n",
       "2                 Fair             Damaged              Yes   \n",
       "3                 Good                Good              Yes   \n",
       "4    Needs Maintenance                Good              Yes   \n",
       "\n",
       "  maintenance_needed cleaning_fee  \n",
       "0                 No         4.93  \n",
       "1                 No         1.49  \n",
       "2                Yes        13.57  \n",
       "3                Yes        10.24  \n",
       "4                 No         0.00  \n",
       "\n",
       "[5 rows x 40 columns]"
      ]
     },
     "execution_count": 19,
     "metadata": {},
     "output_type": "execute_result"
    }
   ],
   "source": [
    "df.head()"
   ]
  },
  {
   "cell_type": "markdown",
   "id": "38492bdc-cc1c-4407-bcef-7b3e798172a5",
   "metadata": {},
   "source": [
    "# checking my data type"
   ]
  },
  {
   "cell_type": "code",
   "execution_count": 21,
   "id": "8925a087-96c1-4f72-9deb-288cb0248a30",
   "metadata": {},
   "outputs": [
    {
     "name": "stdout",
     "output_type": "stream",
     "text": [
      "<class 'pandas.core.frame.DataFrame'>\n",
      "RangeIndex: 3000 entries, 0 to 2999\n",
      "Data columns (total 40 columns):\n",
      " #   Column                 Non-Null Count  Dtype  \n",
      "---  ------                 --------------  -----  \n",
      " 0   rental_id              3000 non-null   object \n",
      " 1   customer_id            3000 non-null   object \n",
      " 2   car_id                 3000 non-null   object \n",
      " 3   rental_date            3000 non-null   object \n",
      " 4   return_date            3000 non-null   object \n",
      " 5   rental_duration        3000 non-null   int64  \n",
      " 6   rental_status          3000 non-null   object \n",
      " 7   make                   3000 non-null   object \n",
      " 8   model                  3000 non-null   object \n",
      " 9   year                   3000 non-null   int64  \n",
      " 10  car_type               3000 non-null   object \n",
      " 11  license_plate          3000 non-null   object \n",
      " 12  fuel_type              3000 non-null   object \n",
      " 13  transmission           3000 non-null   object \n",
      " 14  mileage                3000 non-null   int64  \n",
      " 15  availability_status    3000 non-null   object \n",
      " 16  customer_name          3000 non-null   object \n",
      " 17  age                    3000 non-null   int64  \n",
      " 18  gender                 3000 non-null   object \n",
      " 19  driver_license_number  3000 non-null   object \n",
      " 20  contact_info           3000 non-null   object \n",
      " 21  customer_rating        3000 non-null   float64\n",
      " 22  membership_status      3000 non-null   object \n",
      " 23  rental_rate            3000 non-null   float64\n",
      " 24  total_amount           3000 non-null   float64\n",
      " 25  payment_method         3000 non-null   object \n",
      " 26  payment_status         3000 non-null   object \n",
      " 27  discount_applied       3000 non-null   float64\n",
      " 28  late_fee               3000 non-null   float64\n",
      " 29  pickup_location        3000 non-null   object \n",
      " 30  dropoff_location       3000 non-null   object \n",
      " 31  pickup_time            3000 non-null   object \n",
      " 32  dropoff_time           3000 non-null   object \n",
      " 33  pickup_staff_id        3000 non-null   object \n",
      " 34  dropoff_staff_id       3000 non-null   object \n",
      " 35  car_condition_before   3000 non-null   object \n",
      " 36  car_condition_after    3000 non-null   object \n",
      " 37  damage_reported        3000 non-null   object \n",
      " 38  maintenance_needed     3000 non-null   object \n",
      " 39  cleaning_fee           3000 non-null   float64\n",
      "dtypes: float64(6), int64(4), object(30)\n",
      "memory usage: 937.6+ KB\n"
     ]
    }
   ],
   "source": [
    "df.info()"
   ]
  },
  {
   "cell_type": "markdown",
   "id": "3d5a58a2-e5c6-4f81-bb25-f9a05eed17f5",
   "metadata": {},
   "source": [
    "# correcting my date data type"
   ]
  },
  {
   "cell_type": "code",
   "execution_count": 6,
   "id": "0fb49c1e-dc43-449b-b695-9d260eb5ff7a",
   "metadata": {},
   "outputs": [],
   "source": [
    "df['rental_date'] = pd.to_datetime(df['rental_date'])"
   ]
  },
  {
   "cell_type": "code",
   "execution_count": 8,
   "id": "c4966d5b-7c43-4f02-8f55-53f039cf2282",
   "metadata": {},
   "outputs": [],
   "source": [
    "df['rental_date'] = pd.to_datetime(df['pickup_time'])"
   ]
  },
  {
   "cell_type": "code",
   "execution_count": 10,
   "id": "0a21b4f6-8801-4477-98ac-daeb248ca981",
   "metadata": {},
   "outputs": [],
   "source": [
    "df['rental_date'] = pd.to_datetime(df['dropoff_time'])"
   ]
  },
  {
   "cell_type": "markdown",
   "id": "f6589111-83a4-4f8d-8225-e3d621cd5319",
   "metadata": {},
   "source": [
    "## What factors influence total rental revenue the most?\n",
    "(e.g., car type, rental duration, customer membership)\n"
   ]
  },
  {
   "cell_type": "code",
   "execution_count": 69,
   "id": "108ab958-4f47-493c-a0fc-1b215e1bd0d5",
   "metadata": {},
   "outputs": [
    {
     "name": "stdout",
     "output_type": "stream",
     "text": [
      "Top factors influencing total rental revenue:\n",
      "\n",
      "                     Feature  Importance\n",
      "5            rental_duration    0.593398\n",
      "6            customer_rating    0.141810\n",
      "9               cleaning_fee    0.074150\n",
      "7           discount_applied    0.055451\n",
      "8                   late_fee    0.045715\n",
      "4  membership_status_Regular    0.019546\n",
      "3  membership_status_Premium    0.019470\n",
      "2             car_type_Sedan    0.017766\n",
      "1               car_type_SUV    0.017308\n",
      "0         car_type_Hatchback    0.015385\n"
     ]
    },
    {
     "data": {
      "image/png": "[encoded data removed]",
      "text/plain": [
       "<Figure size 1000x600 with 1 Axes>"
      ]
     },
     "metadata": {},
     "output_type": "display_data"
    }
   ],
   "source": [
    "import pandas as pd\n",
    "from sklearn.model_selection import train_test_split\n",
    "from sklearn.ensemble import RandomForestRegressor\n",
    "from sklearn.preprocessing import OneHotEncoder\n",
    "from sklearn.compose import ColumnTransformer\n",
    "from sklearn.pipeline import Pipeline\n",
    "import matplotlib.pyplot as plt\n",
    "import seaborn as sns\n",
    "\n",
    "# Load your dataset\n",
    "df = pd.read_csv(\"C:/Users/DELL/Downloads/car_rental_dataset.csv\")  # Replace with your file path\n",
    "\n",
    "# Select features that might influence total rental revenue\n",
    "features = [\n",
    "    'rental_duration', 'car_type', 'membership_status', \n",
    "    'customer_rating', 'discount_applied', 'late_fee', 'cleaning_fee'\n",
    "]\n",
    "target = 'total_amount'\n",
    "\n",
    "X = df[features]\n",
    "y = df[target]\n",
    "\n",
    "# Identify categorical and numerical features\n",
    "categorical_features = ['car_type', 'membership_status']\n",
    "numerical_features = ['rental_duration', 'customer_rating', 'discount_applied', 'late_fee', 'cleaning_fee']\n",
    "\n",
    "# Preprocessing: OneHotEncode categorical features\n",
    "preprocessor = ColumnTransformer(transformers=[\n",
    "    ('cat', OneHotEncoder(drop='first'), categorical_features)\n",
    "], remainder='passthrough')\n",
    "\n",
    "# Create the pipeline\n",
    "pipeline = Pipeline(steps=[\n",
    "    ('preprocessor', preprocessor),\n",
    "    ('model', RandomForestRegressor(n_estimators=100, random_state=42))\n",
    "])\n",
    "\n",
    "# Train-test split\n",
    "X_train, X_test, y_train, y_test = train_test_split(X, y, test_size=0.2, random_state=42)\n",
    "\n",
    "# Fit the model\n",
    "pipeline.fit(X_train, y_train)\n",
    "\n",
    "# Get feature names\n",
    "encoded_cat_features = pipeline.named_steps['preprocessor'].named_transformers_['cat'].get_feature_names_out(categorical_features)\n",
    "all_features = list(encoded_cat_features) + numerical_features\n",
    "\n",
    "# Extract feature importances\n",
    "importances = pipeline.named_steps['model'].feature_importances_\n",
    "importance_df = pd.DataFrame({'Feature': all_features, 'Importance': importances})\n",
    "importance_df = importance_df.sort_values(by='Importance', ascending=False)\n",
    "\n",
    "# Display top factors\n",
    "print(\"Top factors influencing total rental revenue:\\n\")\n",
    "print(importance_df)\n",
    "\n",
    "# Plot feature importances\n",
    "plt.figure(figsize=(10, 6))\n",
    "sns.barplot(data=importance_df, x='Importance', y='Feature')\n",
    "plt.title('Feature Importance: What Influences Total Rental Revenue the Most')\n",
    "plt.xlabel('Importance Score')\n",
    "plt.ylabel('Feature')\n",
    "plt.tight_layout()\n",
    "plt.show()\n"
   ]
  },
  {
   "cell_type": "markdown",
   "id": "8f30364e-a69e-4033-944f-6e846e34c0c3",
   "metadata": {},
   "source": [
    "## Which car makes and models are rented the most and generate the highest revenue?\n"
   ]
  },
  {
   "cell_type": "code",
   "execution_count": 15,
   "id": "a508ede1-7d4b-4415-98ad-4c7a25d155e2",
   "metadata": {},
   "outputs": [
    {
     "name": "stdout",
     "output_type": "stream",
     "text": [
      "       make     model  rental_count  total_revenue\n",
      "2       BMW        X3           220      148221.70\n",
      "9   Hyundai   Elantra           208      143525.79\n",
      "0       BMW  3 Series           200      141892.79\n",
      "6     Honda    Accord           206      141762.83\n",
      "8     Honda     Civic           203      139525.06\n",
      "13   Toyota   Corolla           217      137599.10\n",
      "1       BMW  5 Series           214      134184.14\n",
      "10  Hyundai    Sonata           194      133190.69\n",
      "4      Ford     Focus           193      131697.99\n",
      "5      Ford    Fusion           204      128651.65\n"
     ]
    }
   ],
   "source": [
    "# Group by make and model\n",
    "car_stats = df.groupby(['make', 'model']).agg(\n",
    "    rental_count=('rental_id', 'count'),\n",
    "    total_revenue=('total_amount', 'sum')\n",
    ").reset_index().sort_values(by='total_revenue', ascending=False)\n",
    "\n",
    "print(car_stats.head(10))  # Top 10 makes/models by revenue\n"
   ]
  },
  {
   "cell_type": "markdown",
   "id": "47e11ce5-83ff-4f32-9c6e-4b1a14494292",
   "metadata": {},
   "source": [
    "## What is the impact of membership status on rental frequency and total spend?\n"
   ]
  },
  {
   "cell_type": "code",
   "execution_count": 86,
   "id": "d18067d4-b584-4c3d-a169-5855fc46c503",
   "metadata": {},
   "outputs": [
    {
     "name": "stdout",
     "output_type": "stream",
     "text": [
      "  membership_status  rental_frequency  total_spend\n",
      "0              Gold              1028    697967.50\n",
      "1           Premium               989    654114.17\n",
      "2           Regular               983    612245.08\n"
     ]
    }
   ],
   "source": [
    "\n",
    "# Group by membership status and calculate the rental frequency and total spend\n",
    "membership_analysis = df.groupby('membership_status').agg(\n",
    "    rental_frequency=('rental_id', 'count'),  # Number of rentals\n",
    "    total_spend=('total_amount', 'sum')  # Total amount spent\n",
    ").reset_index()\n",
    "\n",
    "# Display the results\n",
    "print(membership_analysis)\n"
   ]
  },
  {
   "cell_type": "markdown",
   "id": "f033f677-7a66-4be8-b0a9-483a1d530d35",
   "metadata": {},
   "source": [
    "## Are certain locations more likely to have late returns or maintenance issues?\n"
   ]
  },
  {
   "cell_type": "code",
   "execution_count": 41,
   "id": "3f6b0d51-d64a-4db8-b407-2848970f2404",
   "metadata": {},
   "outputs": [
    {
     "name": "stdout",
     "output_type": "stream",
     "text": [
      "Late Returns by Location:\n",
      "     pickup_location      dropoff_location  late_return_count\n",
      "0         Aaronport            Weaverberg                  1\n",
      "495    Patrickburgh  North Matthewborough                  1\n",
      "486     North Sarah    South Carolynmouth                  1\n",
      "487    North Teresa      North Danielberg                  1\n",
      "488   North Vanessa           Brandontown                  1\n",
      "\n",
      "Maintenance Issues by Location:\n",
      "         pickup_location dropoff_location  maintenance_issue_count\n",
      "0          Aaronborough  North Susanland                        1\n",
      "1063  Port Kimberlyview     Herringburgh                        1\n",
      "1037         Port David        New James                        1\n",
      "1036        Port Daniel       Robertport                        1\n",
      "1035       Port Crystal     Melanieshire                        1\n"
     ]
    }
   ],
   "source": [
    "# Ensure 'maintenance_needed' column has consistent casing\n",
    "df['maintenance_needed'] = df['maintenance_needed'].astype(str).str.lower()\n",
    "\n",
    "# Filter for late returns and maintenance issues \n",
    "late_returns = df[df['late_fee'] > 0]\n",
    "maintenance_issues = df[df['maintenance_needed'] == 'yes']\n",
    "\n",
    "# Group by pickup and dropoff locations\n",
    "late_by_location = late_returns.groupby(['pickup_location', 'dropoff_location']).size().reset_index(name='late_return_count')\n",
    "maintenance_by_location = maintenance_issues.groupby(['pickup_location', 'dropoff_location']).size().reset_index(name='maintenance_issue_count')\n",
    "\n",
    "# Sort by most frequent issues\n",
    "late_by_location = late_by_location.sort_values(by='late_return_count', ascending=False)\n",
    "maintenance_by_location = maintenance_by_location.sort_values(by='maintenance_issue_count', ascending=False)\n",
    "\n",
    "# Display top results\n",
    "print(\"Late Returns by Location:\\n\", late_by_location.head())\n",
    "print(\"\\nMaintenance Issues by Location:\\n\", maintenance_by_location.head())\n"
   ]
  },
  {
   "cell_type": "markdown",
   "id": "b960b355-6ef3-45ef-ad1c-bec22d46ad62",
   "metadata": {},
   "source": [
    "## Do younger or older customers tend to return cars in worse condition?\n"
   ]
  },
  {
   "cell_type": "code",
   "execution_count": 89,
   "id": "e94a1c3f-6830-4493-a6b5-02056be86345",
   "metadata": {},
   "outputs": [
    {
     "name": "stdout",
     "output_type": "stream",
     "text": [
      "  age_group  condition_changed\n",
      "0       <25           0.753378\n",
      "1     25-35           0.793233\n",
      "2     35-50           0.762315\n",
      "3       50+           0.782353\n"
     ]
    }
   ],
   "source": [
    "# Assume \"worse condition\" = difference between 'car_condition_before' and 'car_condition_after'\n",
    "df['condition_changed'] = df['car_condition_before'] != df['car_condition_after']\n",
    "\n",
    "# Group by age brackets\n",
    "df['age_group'] = pd.cut(df['age'], bins=[0, 25, 35, 50, 100], labels=['<25', '25-35', '35-50', '50+'])\n",
    "condition_by_age = df.groupby('age_group', observed=False)['condition_changed'].mean().reset_index()\n",
    "\n",
    "print(condition_by_age)\n"
   ]
  },
  {
   "cell_type": "markdown",
   "id": "d21f6800-02cd-4eaa-95a0-54e64ced4d9b",
   "metadata": {},
   "source": [
    "## Which fuel types and transmissions are most popular among customers?\n"
   ]
  },
  {
   "cell_type": "code",
   "execution_count": 56,
   "id": "6dfeb8fe-d581-43eb-a969-92620491dfb5",
   "metadata": {},
   "outputs": [
    {
     "name": "stdout",
     "output_type": "stream",
     "text": [
      "Fuel Type Popularity:\n",
      " fuel_type\n",
      "Petrol      773\n",
      "Hybrid      746\n",
      "Diesel      746\n",
      "Electric    735\n",
      "Name: count, dtype: int64\n",
      "\n",
      "Transmission Type Popularity:\n",
      " transmission\n",
      "Automatic    1508\n",
      "Manual       1492\n",
      "Name: count, dtype: int64\n"
     ]
    }
   ],
   "source": [
    "# Count by fuel_type and transmission\n",
    "fuel_popularity = df['fuel_type'].value_counts()\n",
    "transmission_popularity = df['transmission'].value_counts()\n",
    "\n",
    "print(\"Fuel Type Popularity:\\n\", fuel_popularity)\n",
    "print(\"\\nTransmission Type Popularity:\\n\", transmission_popularity)\n"
   ]
  },
  {
   "cell_type": "markdown",
   "id": "60093603-855b-4826-a06d-f51948bbf46d",
   "metadata": {},
   "source": [
    "## What is the average customer rating by car type or rental duration?\n"
   ]
  },
  {
   "cell_type": "code",
   "execution_count": 15,
   "id": "9a496a37-4047-4944-83f6-c97120fe2555",
   "metadata": {},
   "outputs": [
    {
     "name": "stdout",
     "output_type": "stream",
     "text": [
      "Customer Rating by Car Type (Descending):\n",
      "     car_type  customer_rating\n",
      "3      Sedan         3.068477\n",
      "0      Coupe         3.023368\n",
      "1  Hatchback         2.971313\n",
      "2        SUV         2.953784\n",
      "\n",
      "Customer Rating by Rental Duration (Descending):\n",
      "   rental_length  customer_rating\n",
      "2     8-14 days         3.013840\n",
      "1      4-7 days         3.008571\n",
      "0      1-3 days         2.978955\n"
     ]
    }
   ],
   "source": [
    "# Average rating by car type (sorted descending)\n",
    "rating_by_car = df.groupby('car_type')['customer_rating'].mean().reset_index().sort_values(by='customer_rating', ascending=False)\n",
    "\n",
    "# Categorize rental durations into buckets\n",
    "df['rental_length'] = pd.cut(df['rental_duration'],\n",
    "                             bins=[0, 3, 7, 14, 30, 60],\n",
    "                             labels=['1-3 days', '4-7 days', '8-14 days', '15-30 days', '30+ days'])\n",
    "\n",
    "# Average rating by rental duration category (sorted descending, with observed=True)\n",
    "rating_by_duration = df.groupby('rental_length', observed=True)['customer_rating'].mean().reset_index().sort_values(by='customer_rating', ascending=False)\n",
    "\n",
    "# Display results\n",
    "print(\"Customer Rating by Car Type (Descending):\\n\", rating_by_car)\n",
    "print(\"\\nCustomer Rating by Rental Duration (Descending):\\n\", rating_by_duration)\n"
   ]
  },
  {
   "cell_type": "markdown",
   "id": "9ee3db2b-b9e2-478b-a0fd-8361349cec4a",
   "metadata": {},
   "source": [
    "## Insights, Business implications and Recommendation"
   ]
  },
  {
   "cell_type": "markdown",
   "id": "d3176604-1924-44e7-8050-5bd33c54cd93",
   "metadata": {},
   "source": [
    "### Q1: What factors influence total rental revenue the most?\n",
    "**Insight:** Rental duration has the highest impact on total revenue, followed by customer rating, cleaning fees, discounts, and late fees.  \n",
    "**Impact:** Revenue is primarily driven by how long a car is rented and how satisfied customers are.  \n",
    "**Recommendation:** Encourage longer rentals through loyalty programs and improve customer experience to boost ratings and revenue.\n",
    "\n",
    "### Q2: Which car makes and models are rented the most and generate the highest revenue?\n",
    "**Insight:** BMW X3, Hyundai Elantra, and BMW 3 Series generate the highest revenue and rental counts.  \n",
    "**Impact:** High-performing models contribute significantly to business profitability.  \n",
    "**Recommendation:** Increase fleet size of top-performing models and prioritize their availability.\n",
    "\n",
    "### Q3: What is the impact of membership status on rental frequency and total spend?\n",
    "**Insight:** Gold members rent the most and spend the most, followed closely by Premium and Regular members.  \n",
    "**Impact:** Membership tier strongly correlates with customer value.  \n",
    "**Recommendation:** Retain Gold and Premium members with exclusive perks and incentivize upgrades for Regular members.\n",
    "\n",
    "### Q4: Are certain locations more likely to have late returns or maintenance issues?\n",
    "**Insight:** Incidents of late returns and maintenance issues are rare and spread across multiple locations, with each recording only one occurrence.  \n",
    "**Impact:** No location consistently underperforms, making location-specific interventions ineffective for now.  \n",
    "**Recommendation:** Maintain regular monitoring. Consider proactive communication or preventive maintenance in locations with even minor incident history.\n",
    "\n",
    "### Q5: Do younger or older customers tend to return cars in worse condition?\n",
    "**Insight:** Customers aged 25–35 have the highest rate of condition changes (79.3%), followed by those aged 50+ and 35–50.  \n",
    "**Impact:** Mid-age renters are slightly more likely to return cars in worse condition.  \n",
    "**Recommendation:** Provide clearer usage guidelines or optional vehicle protection plans for the 25–35 age group.\n",
    "\n",
    "### Q6: Which fuel types and transmissions are most popular among customers?\n",
    "**Insight:** Petrol is the most rented fuel type, closely followed by Hybrid and Diesel. Automatic and Manual transmissions are nearly equally preferred.  \n",
    "**Impact:** A balanced mix of fuel types and transmission options caters to a wide customer base.  \n",
    "**Recommendation:** Maintain a diverse fleet while gradually increasing the share of electric vehicles to stay future-ready.\n",
    "\n",
    "### Q7: What is the average customer rating by car type or rental duration?\n",
    "**Insight:** Sedans have the highest average rating (3.07), while rentals lasting 8–14 days receive the best ratings.  \n",
    "**Impact:** Longer rentals and sedan-type cars tend to deliver better customer satisfaction.  \n",
    "**Recommendation:** Promote 1–2 week rentals and offer sedans as preferred options during booking.\n"
   ]
  },
  {
   "cell_type": "code",
   "execution_count": null,
   "id": "2de49d51-cec0-4905-8a35-802d4690bf1a",
   "metadata": {},
   "outputs": [],
   "source": []
  }
 ],
 "metadata": {
  "kernelspec": {
   "display_name": "Python 3 (ipykernel)",
   "language": "python",
   "name": "python3"
  },
  "language_info": {
   "codemirror_mode": {
    "name": "ipython",
    "version": 3
   },
   "file_extension": ".py",
   "mimetype": "text/x-python",
   "name": "python",
   "nbconvert_exporter": "python",
   "pygments_lexer": "ipython3",
   "version": "3.12.7"
  }
 },
 "nbformat": 4,
 "nbformat_minor": 5
}
